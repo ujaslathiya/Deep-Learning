{
 "cells": [
  {
   "cell_type": "code",
   "execution_count": 2,
   "id": "47397123",
   "metadata": {},
   "outputs": [],
   "source": [
    "import tensorflow as tf\n",
    "from tensorflow import keras\n",
    "import numpy as np\n",
    "from matplotlib import pyplot as plt\n",
    "%matplotlib inline"
   ]
  },
  {
   "cell_type": "code",
   "execution_count": 3,
   "id": "67045379",
   "metadata": {},
   "outputs": [
    {
     "data": {
      "text/plain": [
       "[PhysicalDevice(name='/physical_device:CPU:0', device_type='CPU')]"
      ]
     },
     "execution_count": 3,
     "metadata": {},
     "output_type": "execute_result"
    }
   ],
   "source": [
    "tf.config.list_physical_devices()"
   ]
  },
  {
   "cell_type": "code",
   "execution_count": 3,
   "id": "6304e5ee",
   "metadata": {},
   "outputs": [
    {
     "data": {
      "text/plain": [
       "False"
      ]
     },
     "execution_count": 3,
     "metadata": {},
     "output_type": "execute_result"
    }
   ],
   "source": [
    "tf.test.is_built_with_cuda()"
   ]
  },
  {
   "cell_type": "code",
   "execution_count": 4,
   "id": "63edcc94",
   "metadata": {},
   "outputs": [
    {
     "name": "stdout",
     "output_type": "stream",
     "text": [
      "Downloading data from https://www.cs.toronto.edu/~kriz/cifar-10-python.tar.gz\n",
      "170498071/170498071 [==============================] - 120s 1us/step\n"
     ]
    }
   ],
   "source": [
    "(X_train,y_train), (X_test,y_test) = tf.keras.datasets.cifar10.load_data()"
   ]
  },
  {
   "cell_type": "code",
   "execution_count": 5,
   "id": "fa0ce822",
   "metadata": {},
   "outputs": [
    {
     "data": {
      "text/plain": [
       "(50000, 32, 32, 3)"
      ]
     },
     "execution_count": 5,
     "metadata": {},
     "output_type": "execute_result"
    }
   ],
   "source": [
    "X_train.shape"
   ]
  },
  {
   "cell_type": "code",
   "execution_count": 6,
   "id": "a612511a",
   "metadata": {},
   "outputs": [],
   "source": [
    "def plot_sample(index):\n",
    "    plt.figure(figsize= (10,1))\n",
    "    plt.imshow(X_train[index])"
   ]
  },
  {
   "cell_type": "code",
   "execution_count": 7,
   "id": "e5670321",
   "metadata": {},
   "outputs": [
    {
     "data": {
      "image/png": "[encoded data removed]",
      "text/plain": [
       "<Figure size 1000x100 with 1 Axes>"
      ]
     },
     "metadata": {},
     "output_type": "display_data"
    }
   ],
   "source": [
    "plot_sample(0)"
   ]
  },
  {
   "cell_type": "code",
   "execution_count": 11,
   "id": "07a8d88e",
   "metadata": {},
   "outputs": [
    {
     "data": {
      "text/plain": [
       "array([[[ 59,  62,  63],\n",
       "        [ 43,  46,  45],\n",
       "        [ 50,  48,  43],\n",
       "        ...,\n",
       "        [158, 132, 108],\n",
       "        [152, 125, 102],\n",
       "        [148, 124, 103]],\n",
       "\n",
       "       [[ 16,  20,  20],\n",
       "        [  0,   0,   0],\n",
       "        [ 18,   8,   0],\n",
       "        ...,\n",
       "        [123,  88,  55],\n",
       "        [119,  83,  50],\n",
       "        [122,  87,  57]],\n",
       "\n",
       "       [[ 25,  24,  21],\n",
       "        [ 16,   7,   0],\n",
       "        [ 49,  27,   8],\n",
       "        ...,\n",
       "        [118,  84,  50],\n",
       "        [120,  84,  50],\n",
       "        [109,  73,  42]],\n",
       "\n",
       "       ...,\n",
       "\n",
       "       [[208, 170,  96],\n",
       "        [201, 153,  34],\n",
       "        [198, 161,  26],\n",
       "        ...,\n",
       "        [160, 133,  70],\n",
       "        [ 56,  31,   7],\n",
       "        [ 53,  34,  20]],\n",
       "\n",
       "       [[180, 139,  96],\n",
       "        [173, 123,  42],\n",
       "        [186, 144,  30],\n",
       "        ...,\n",
       "        [184, 148,  94],\n",
       "        [ 97,  62,  34],\n",
       "        [ 83,  53,  34]],\n",
       "\n",
       "       [[177, 144, 116],\n",
       "        [168, 129,  94],\n",
       "        [179, 142,  87],\n",
       "        ...,\n",
       "        [216, 184, 140],\n",
       "        [151, 118,  84],\n",
       "        [123,  92,  72]]], dtype=uint8)"
      ]
     },
     "execution_count": 11,
     "metadata": {},
     "output_type": "execute_result"
    }
   ],
   "source": [
    "X_train[0]"
   ]
  },
  {
   "cell_type": "code",
   "execution_count": 12,
   "id": "29bbf80a",
   "metadata": {},
   "outputs": [
    {
     "data": {
      "text/plain": [
       "array([[6],\n",
       "       [9],\n",
       "       [9],\n",
       "       [4],\n",
       "       [1]], dtype=uint8)"
      ]
     },
     "execution_count": 12,
     "metadata": {},
     "output_type": "execute_result"
    }
   ],
   "source": [
    "y_train[0:5]"
   ]
  },
  {
   "cell_type": "code",
   "execution_count": 13,
   "id": "0c38fb5f",
   "metadata": {},
   "outputs": [],
   "source": [
    "classes = [\"airplane\",\"automobile\",\"bird\",\"cat\",\"deer\",\"dog\",\"frog\",\"horse\",\"ship\",\"truck\"]"
   ]
  },
  {
   "cell_type": "code",
   "execution_count": 14,
   "id": "45392096",
   "metadata": {},
   "outputs": [
    {
     "data": {
      "text/plain": [
       "'airplane'"
      ]
     },
     "execution_count": 14,
     "metadata": {},
     "output_type": "execute_result"
    }
   ],
   "source": [
    "classes[0]"
   ]
  },
  {
   "cell_type": "code",
   "execution_count": 15,
   "id": "eef486c4",
   "metadata": {},
   "outputs": [],
   "source": [
    "X_train_scaled = X_train / 255\n",
    "X_test_scaled = X_test / 255"
   ]
  },
  {
   "cell_type": "code",
   "execution_count": 17,
   "id": "f4de4230",
   "metadata": {},
   "outputs": [
    {
     "data": {
      "text/plain": [
       "array([[[0.61960784, 0.43921569, 0.19215686],\n",
       "        [0.62352941, 0.43529412, 0.18431373],\n",
       "        [0.64705882, 0.45490196, 0.2       ],\n",
       "        ...,\n",
       "        [0.5372549 , 0.37254902, 0.14117647],\n",
       "        [0.49411765, 0.35686275, 0.14117647],\n",
       "        [0.45490196, 0.33333333, 0.12941176]],\n",
       "\n",
       "       [[0.59607843, 0.43921569, 0.2       ],\n",
       "        [0.59215686, 0.43137255, 0.15686275],\n",
       "        [0.62352941, 0.44705882, 0.17647059],\n",
       "        ...,\n",
       "        [0.53333333, 0.37254902, 0.12156863],\n",
       "        [0.49019608, 0.35686275, 0.1254902 ],\n",
       "        [0.46666667, 0.34509804, 0.13333333]],\n",
       "\n",
       "       [[0.59215686, 0.43137255, 0.18431373],\n",
       "        [0.59215686, 0.42745098, 0.12941176],\n",
       "        [0.61960784, 0.43529412, 0.14117647],\n",
       "        ...,\n",
       "        [0.54509804, 0.38431373, 0.13333333],\n",
       "        [0.50980392, 0.37254902, 0.13333333],\n",
       "        [0.47058824, 0.34901961, 0.12941176]],\n",
       "\n",
       "       ...,\n",
       "\n",
       "       [[0.26666667, 0.48627451, 0.69411765],\n",
       "        [0.16470588, 0.39215686, 0.58039216],\n",
       "        [0.12156863, 0.34509804, 0.5372549 ],\n",
       "        ...,\n",
       "        [0.14901961, 0.38039216, 0.57254902],\n",
       "        [0.05098039, 0.25098039, 0.42352941],\n",
       "        [0.15686275, 0.33333333, 0.49803922]],\n",
       "\n",
       "       [[0.23921569, 0.45490196, 0.65882353],\n",
       "        [0.19215686, 0.4       , 0.58039216],\n",
       "        [0.1372549 , 0.33333333, 0.51764706],\n",
       "        ...,\n",
       "        [0.10196078, 0.32156863, 0.50980392],\n",
       "        [0.11372549, 0.32156863, 0.49411765],\n",
       "        [0.07843137, 0.25098039, 0.41960784]],\n",
       "\n",
       "       [[0.21176471, 0.41960784, 0.62745098],\n",
       "        [0.21960784, 0.41176471, 0.58431373],\n",
       "        [0.17647059, 0.34901961, 0.51764706],\n",
       "        ...,\n",
       "        [0.09411765, 0.30196078, 0.48627451],\n",
       "        [0.13333333, 0.32941176, 0.50588235],\n",
       "        [0.08235294, 0.2627451 , 0.43137255]]])"
      ]
     },
     "execution_count": 17,
     "metadata": {},
     "output_type": "execute_result"
    }
   ],
   "source": [
    "X_test_scaled[0]"
   ]
  },
  {
   "cell_type": "code",
   "execution_count": 18,
   "id": "37062e42",
   "metadata": {},
   "outputs": [],
   "source": [
    "y_train_categorical = keras.utils.to_categorical(\n",
    "    y_train, num_classes=10, dtype='float32'\n",
    ")\n",
    "\n",
    "y_test_categorical = keras.utils.to_categorical(\n",
    "    y_test, num_classes=10, dtype='float32'\n",
    ")"
   ]
  },
  {
   "cell_type": "code",
   "execution_count": 19,
   "id": "3801ea7a",
   "metadata": {},
   "outputs": [
    {
     "data": {
      "text/plain": [
       "array([0., 0., 0., 0., 0., 0., 1., 0., 0., 0.], dtype=float32)"
      ]
     },
     "execution_count": 19,
     "metadata": {},
     "output_type": "execute_result"
    }
   ],
   "source": [
    "y_train_categorical[0]"
   ]
  },
  {
   "cell_type": "code",
   "execution_count": 22,
   "id": "854f82bb",
   "metadata": {},
   "outputs": [
    {
     "name": "stdout",
     "output_type": "stream",
     "text": [
      "Epoch 1/50\n",
      "1563/1563 [==============================] - 121s 77ms/step - loss: 1.8124 - accuracy: 0.3556\n",
      "Epoch 2/50\n",
      "1563/1563 [==============================] - 137s 87ms/step - loss: 1.6237 - accuracy: 0.4248\n",
      "Epoch 3/50\n",
      "1563/1563 [==============================] - 138s 88ms/step - loss: 1.5428 - accuracy: 0.4544\n",
      "Epoch 4/50\n",
      "1563/1563 [==============================] - 104s 67ms/step - loss: 1.4811 - accuracy: 0.4772\n",
      "Epoch 5/50\n",
      "1563/1563 [==============================] - 102s 65ms/step - loss: 1.4332 - accuracy: 0.4946\n",
      "Epoch 6/50\n",
      "1563/1563 [==============================] - 109s 70ms/step - loss: 1.3886 - accuracy: 0.5101\n",
      "Epoch 7/50\n",
      "1563/1563 [==============================] - 120s 77ms/step - loss: 1.3519 - accuracy: 0.5250\n",
      "Epoch 8/50\n",
      "1563/1563 [==============================] - 119s 76ms/step - loss: 1.3163 - accuracy: 0.5393\n",
      "Epoch 9/50\n",
      "1563/1563 [==============================] - 117s 75ms/step - loss: 1.2840 - accuracy: 0.5510\n",
      "Epoch 10/50\n",
      "1563/1563 [==============================] - 122s 78ms/step - loss: 1.2536 - accuracy: 0.5604\n",
      "Epoch 11/50\n",
      "1563/1563 [==============================] - 124s 80ms/step - loss: 1.2219 - accuracy: 0.5710\n",
      "Epoch 12/50\n",
      "1563/1563 [==============================] - 119s 76ms/step - loss: 1.1944 - accuracy: 0.5810\n",
      "Epoch 13/50\n",
      "1563/1563 [==============================] - 117s 75ms/step - loss: 1.1677 - accuracy: 0.5921\n",
      "Epoch 14/50\n",
      "1563/1563 [==============================] - 118s 75ms/step - loss: 1.1399 - accuracy: 0.6007\n",
      "Epoch 15/50\n",
      "1563/1563 [==============================] - 161s 103ms/step - loss: 1.1151 - accuracy: 0.6092\n",
      "Epoch 16/50\n",
      "1563/1563 [==============================] - 102s 65ms/step - loss: 1.0855 - accuracy: 0.6214\n",
      "Epoch 17/50\n",
      "1563/1563 [==============================] - 102s 65ms/step - loss: 1.0595 - accuracy: 0.6316\n",
      "Epoch 18/50\n",
      "1563/1563 [==============================] - 105s 67ms/step - loss: 1.0369 - accuracy: 0.6374\n",
      "Epoch 19/50\n",
      "1563/1563 [==============================] - 112s 72ms/step - loss: 1.0097 - accuracy: 0.6487\n",
      "Epoch 20/50\n",
      "1563/1563 [==============================] - 113s 73ms/step - loss: 0.9846 - accuracy: 0.6587\n",
      "Epoch 21/50\n",
      "1563/1563 [==============================] - 105s 67ms/step - loss: 0.9562 - accuracy: 0.6669\n",
      "Epoch 22/50\n",
      "1563/1563 [==============================] - 104s 67ms/step - loss: 0.9345 - accuracy: 0.6762\n",
      "Epoch 23/50\n",
      "1563/1563 [==============================] - 105s 67ms/step - loss: 0.9079 - accuracy: 0.6848\n",
      "Epoch 24/50\n",
      "1563/1563 [==============================] - 1405s 899ms/step - loss: 0.8851 - accuracy: 0.6927\n",
      "Epoch 25/50\n",
      "1563/1563 [==============================] - 113s 72ms/step - loss: 0.8572 - accuracy: 0.7056\n",
      "Epoch 26/50\n",
      "1563/1563 [==============================] - 117s 75ms/step - loss: 0.8337 - accuracy: 0.7127\n",
      "Epoch 27/50\n",
      "1563/1563 [==============================] - 111s 71ms/step - loss: 0.8054 - accuracy: 0.7257\n",
      "Epoch 28/50\n",
      "1563/1563 [==============================] - 103s 66ms/step - loss: 0.7832 - accuracy: 0.7316\n",
      "Epoch 29/50\n",
      "1563/1563 [==============================] - 328s 210ms/step - loss: 0.7553 - accuracy: 0.7413\n",
      "Epoch 30/50\n",
      "1563/1563 [==============================] - 115s 74ms/step - loss: 0.7335 - accuracy: 0.7500\n",
      "Epoch 31/50\n",
      "1563/1563 [==============================] - 143s 91ms/step - loss: 0.7080 - accuracy: 0.7585\n",
      "Epoch 32/50\n",
      "1563/1563 [==============================] - 117s 75ms/step - loss: 0.6814 - accuracy: 0.7688\n",
      "Epoch 33/50\n",
      "1563/1563 [==============================] - 115s 74ms/step - loss: 0.6566 - accuracy: 0.7783\n",
      "Epoch 34/50\n",
      "1563/1563 [==============================] - 115s 74ms/step - loss: 0.6335 - accuracy: 0.7862\n",
      "Epoch 35/50\n",
      "1563/1563 [==============================] - 140s 90ms/step - loss: 0.6109 - accuracy: 0.7955\n",
      "Epoch 36/50\n",
      "1563/1563 [==============================] - 118s 75ms/step - loss: 0.5831 - accuracy: 0.8046\n",
      "Epoch 37/50\n",
      "1563/1563 [==============================] - 115s 73ms/step - loss: 0.5625 - accuracy: 0.8137\n",
      "Epoch 38/50\n",
      "1563/1563 [==============================] - 372s 238ms/step - loss: 0.5417 - accuracy: 0.8203\n",
      "Epoch 39/50\n",
      "1563/1563 [==============================] - 125s 80ms/step - loss: 0.5142 - accuracy: 0.8317\n",
      "Epoch 40/50\n",
      "1563/1563 [==============================] - 114s 73ms/step - loss: 0.4945 - accuracy: 0.8373\n",
      "Epoch 41/50\n",
      "1563/1563 [==============================] - 119s 76ms/step - loss: 0.4768 - accuracy: 0.8439\n",
      "Epoch 42/50\n",
      "1563/1563 [==============================] - 115s 74ms/step - loss: 0.4491 - accuracy: 0.8548\n",
      "Epoch 43/50\n",
      "1563/1563 [==============================] - 115s 74ms/step - loss: 0.4290 - accuracy: 0.8632\n",
      "Epoch 44/50\n",
      "1563/1563 [==============================] - 115s 73ms/step - loss: 0.4111 - accuracy: 0.8679\n",
      "Epoch 45/50\n",
      "1563/1563 [==============================] - 110s 70ms/step - loss: 0.3906 - accuracy: 0.8767\n",
      "Epoch 46/50\n",
      "1563/1563 [==============================] - 110s 70ms/step - loss: 0.3746 - accuracy: 0.8812\n",
      "Epoch 47/50\n",
      "1563/1563 [==============================] - 114s 73ms/step - loss: 0.3526 - accuracy: 0.8907\n",
      "Epoch 48/50\n",
      "1563/1563 [==============================] - 114s 73ms/step - loss: 0.3302 - accuracy: 0.8979\n",
      "Epoch 49/50\n",
      "1563/1563 [==============================] - 114s 73ms/step - loss: 0.3131 - accuracy: 0.9044\n",
      "Epoch 50/50\n",
      "1563/1563 [==============================] - 114s 73ms/step - loss: 0.2976 - accuracy: 0.9102\n"
     ]
    },
    {
     "data": {
      "text/plain": [
       "<keras.callbacks.History at 0x223af352f50>"
      ]
     },
     "execution_count": 22,
     "metadata": {},
     "output_type": "execute_result"
    }
   ],
   "source": [
    "model = keras.Sequential([\n",
    "    \n",
    "    keras.layers.Flatten(input_shape=(32,32,3)),\n",
    "    keras.layers.Dense(3000, activation='relu'),\n",
    "    keras.layers.Dense(1000, activation='relu'),\n",
    "    keras.layers.Dense(10, activation='sigmoid')\n",
    "    \n",
    "])\n",
    "\n",
    "model.compile(\n",
    "    optimizer='SGD',\n",
    "    loss='categorical_crossentropy',\n",
    "    metrics=['accuracy']\n",
    ")\n",
    "\n",
    "model.fit(X_train_scaled,y_train_categorical,epochs=50)"
   ]
  },
  {
   "cell_type": "code",
   "execution_count": 25,
   "id": "acb7b67e",
   "metadata": {},
   "outputs": [
    {
     "name": "stdout",
     "output_type": "stream",
     "text": [
      "313/313 [==============================] - 5s 15ms/step\n"
     ]
    },
    {
     "data": {
      "text/plain": [
       "'cat'"
      ]
     },
     "execution_count": 25,
     "metadata": {},
     "output_type": "execute_result"
    }
   ],
   "source": [
    "classes[np.argmax(model.predict(X_test_scaled)[0])]"
   ]
  },
  {
   "cell_type": "code",
   "execution_count": 26,
   "id": "4875794c",
   "metadata": {},
   "outputs": [
    {
     "name": "stdout",
     "output_type": "stream",
     "text": [
      "313/313 [==============================] - 5s 14ms/step - loss: 1.6378 - accuracy: 0.5547\n"
     ]
    },
    {
     "data": {
      "text/plain": [
       "[1.6377522945404053, 0.5547000169754028]"
      ]
     },
     "execution_count": 26,
     "metadata": {},
     "output_type": "execute_result"
    }
   ],
   "source": [
    "model.evaluate(X_test_scaled,y_test_categorical)"
   ]
  },
  {
   "cell_type": "code",
   "execution_count": 27,
   "id": "6edaad84",
   "metadata": {},
   "outputs": [],
   "source": [
    "def get_model():\n",
    "    model = keras.Sequential([\n",
    "    \n",
    "    keras.layers.Flatten(input_shape=(32,32,3)),\n",
    "    keras.layers.Dense(3000, activation='relu'),\n",
    "    keras.layers.Dense(1000, activation='relu'),\n",
    "    keras.layers.Dense(10, activation='sigmoid')\n",
    "    \n",
    "    ])\n",
    "\n",
    "    model.compile(\n",
    "        optimizer='SGD',\n",
    "        loss='categorical_crossentropy',\n",
    "        metrics=['accuracy']\n",
    "    )\n",
    "\n",
    "    return model"
   ]
  },
  {
   "cell_type": "code",
   "execution_count": 28,
   "id": "6c7b0c13",
   "metadata": {},
   "outputs": [
    {
     "name": "stdout",
     "output_type": "stream",
     "text": [
      "1563/1563 [==============================] - 120s 76ms/step - loss: 1.8109 - accuracy: 0.3553\n",
      "2min 5s ± 0 ns per loop (mean ± std. dev. of 1 run, 1 loop each)\n"
     ]
    }
   ],
   "source": [
    "%%timeit -n1 -r1\n",
    "with tf.device('/CPU:0'):\n",
    "    cpu_model = get_model()\n",
    "    cpu_model.fit(X_train_scaled, y_train_categorical, epochs=1)"
   ]
  },
  {
   "cell_type": "code",
   "execution_count": null,
   "id": "4abc5f31",
   "metadata": {},
   "outputs": [],
   "source": []
  }
 ],
 "metadata": {
  "kernelspec": {
   "display_name": "Python 3 (ipykernel)",
   "language": "python",
   "name": "python3"
  },
  "language_info": {
   "codemirror_mode": {
    "name": "ipython",
    "version": 3
   },
   "file_extension": ".py",
   "mimetype": "text/x-python",
   "name": "python",
   "nbconvert_exporter": "python",
   "pygments_lexer": "ipython3",
   "version": "3.11.2"
  }
 },
 "nbformat": 4,
 "nbformat_minor": 5
}
