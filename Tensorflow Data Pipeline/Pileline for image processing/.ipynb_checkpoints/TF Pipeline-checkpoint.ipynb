{
 "cells": [
  {
   "cell_type": "code",
   "execution_count": 33,
   "id": "541473a1",
   "metadata": {},
   "outputs": [],
   "source": [
    "import pandas as pd\n",
    "import numpy as np\n",
    "import tensorflow as tf\n",
    "import os\n",
    "from matplotlib import pyplot as plt"
   ]
  },
  {
   "cell_type": "code",
   "execution_count": 2,
   "id": "c1433525",
   "metadata": {},
   "outputs": [
    {
     "data": {
      "text/plain": [
       "<_TensorSliceDataset element_spec=TensorSpec(shape=(), dtype=tf.int32, name=None)>"
      ]
     },
     "execution_count": 2,
     "metadata": {},
     "output_type": "execute_result"
    }
   ],
   "source": [
    "daily_sales_numbers = [21, 22, -108, 31, -1, 32, 34,31]\n",
    "\n",
    "tf_dataset = tf.data.Dataset.from_tensor_slices(daily_sales_numbers)\n",
    "tf_dataset"
   ]
  },
  {
   "cell_type": "code",
   "execution_count": 3,
   "id": "b867e23a",
   "metadata": {},
   "outputs": [
    {
     "name": "stdout",
     "output_type": "stream",
     "text": [
      "tf.Tensor(21, shape=(), dtype=int32)\n",
      "tf.Tensor(22, shape=(), dtype=int32)\n",
      "tf.Tensor(-108, shape=(), dtype=int32)\n",
      "tf.Tensor(31, shape=(), dtype=int32)\n",
      "tf.Tensor(-1, shape=(), dtype=int32)\n",
      "tf.Tensor(32, shape=(), dtype=int32)\n",
      "tf.Tensor(34, shape=(), dtype=int32)\n",
      "tf.Tensor(31, shape=(), dtype=int32)\n"
     ]
    }
   ],
   "source": [
    "for label in tf_dataset:\n",
    "    print(label)"
   ]
  },
  {
   "cell_type": "code",
   "execution_count": 4,
   "id": "7186de30",
   "metadata": {},
   "outputs": [
    {
     "name": "stdout",
     "output_type": "stream",
     "text": [
      "21\n",
      "22\n",
      "-108\n",
      "31\n",
      "-1\n",
      "32\n",
      "34\n",
      "31\n"
     ]
    }
   ],
   "source": [
    "for label in tf_dataset.as_numpy_iterator():\n",
    "    print(label)"
   ]
  },
  {
   "cell_type": "code",
   "execution_count": 5,
   "id": "e81b7cda",
   "metadata": {},
   "outputs": [],
   "source": [
    "tf_dataset = tf_dataset.filter(lambda x: x>0)"
   ]
  },
  {
   "cell_type": "code",
   "execution_count": 6,
   "id": "d1641a81",
   "metadata": {},
   "outputs": [
    {
     "name": "stdout",
     "output_type": "stream",
     "text": [
      "21\n",
      "22\n",
      "31\n",
      "32\n",
      "34\n",
      "31\n"
     ]
    }
   ],
   "source": [
    "for label in tf_dataset.as_numpy_iterator():\n",
    "    print(label)"
   ]
  },
  {
   "cell_type": "code",
   "execution_count": 7,
   "id": "8881f4ed",
   "metadata": {},
   "outputs": [],
   "source": [
    "tf_dataset = tf_dataset.map(lambda x: x*72)"
   ]
  },
  {
   "cell_type": "code",
   "execution_count": 8,
   "id": "2747e1c7",
   "metadata": {},
   "outputs": [
    {
     "name": "stdout",
     "output_type": "stream",
     "text": [
      "1512\n",
      "1584\n",
      "2232\n",
      "2304\n",
      "2448\n",
      "2232\n"
     ]
    }
   ],
   "source": [
    "for label in tf_dataset.as_numpy_iterator():\n",
    "    print(label)"
   ]
  },
  {
   "cell_type": "code",
   "execution_count": 9,
   "id": "f4562291",
   "metadata": {},
   "outputs": [],
   "source": [
    "tf_dataset = tf_dataset.shuffle(3)"
   ]
  },
  {
   "cell_type": "code",
   "execution_count": 10,
   "id": "25326d1f",
   "metadata": {},
   "outputs": [
    {
     "name": "stdout",
     "output_type": "stream",
     "text": [
      "1584\n",
      "2232\n",
      "1512\n",
      "2304\n",
      "2232\n",
      "2448\n"
     ]
    }
   ],
   "source": [
    "for label in tf_dataset.as_numpy_iterator():\n",
    "    print(label)"
   ]
  },
  {
   "cell_type": "code",
   "execution_count": 11,
   "id": "f57506a9",
   "metadata": {},
   "outputs": [],
   "source": [
    "tf_dataset = tf_dataset.batch(2)"
   ]
  },
  {
   "cell_type": "code",
   "execution_count": 12,
   "id": "379e0a88",
   "metadata": {},
   "outputs": [
    {
     "name": "stdout",
     "output_type": "stream",
     "text": [
      "[2232 1512]\n",
      "[1584 2304]\n",
      "[2448 2232]\n"
     ]
    }
   ],
   "source": [
    "for label in tf_dataset.as_numpy_iterator():\n",
    "    print(label)"
   ]
  },
  {
   "cell_type": "code",
   "execution_count": 13,
   "id": "5da7e263",
   "metadata": {},
   "outputs": [],
   "source": [
    "tf_dataset = tf.data.Dataset.from_tensor_slices(daily_sales_numbers)\n",
    "\n",
    "tf_dataset = tf_dataset.filter(lambda x: x>0).map(lambda y: y*72).shuffle(3).batch(2)"
   ]
  },
  {
   "cell_type": "code",
   "execution_count": 14,
   "id": "efda725d",
   "metadata": {},
   "outputs": [
    {
     "name": "stdout",
     "output_type": "stream",
     "text": [
      "[1512 2304]\n",
      "[1584 2232]\n",
      "[2232 2448]\n"
     ]
    }
   ],
   "source": [
    "for label in tf_dataset.as_numpy_iterator():\n",
    "    print(label)"
   ]
  },
  {
   "cell_type": "code",
   "execution_count": 15,
   "id": "bdb84e68",
   "metadata": {},
   "outputs": [],
   "source": [
    "image_ds = tf.data.Dataset.list_files('images/*/*',shuffle=False)\n"
   ]
  },
  {
   "cell_type": "code",
   "execution_count": 16,
   "id": "c207acde",
   "metadata": {},
   "outputs": [
    {
     "data": {
      "text/plain": [
       "130"
      ]
     },
     "execution_count": 16,
     "metadata": {},
     "output_type": "execute_result"
    }
   ],
   "source": [
    "image_count = len(image_ds)\n",
    "image_count"
   ]
  },
  {
   "cell_type": "code",
   "execution_count": 17,
   "id": "32f83096",
   "metadata": {},
   "outputs": [
    {
     "data": {
      "text/plain": [
       "tensorflow.python.data.ops.from_tensor_slices_op._TensorSliceDataset"
      ]
     },
     "execution_count": 17,
     "metadata": {},
     "output_type": "execute_result"
    }
   ],
   "source": [
    "type(image_ds)"
   ]
  },
  {
   "cell_type": "code",
   "execution_count": 19,
   "id": "708d47e5",
   "metadata": {},
   "outputs": [
    {
     "name": "stdout",
     "output_type": "stream",
     "text": [
      "b'images\\\\cat\\\\20 Reasons Why Cats Make the Best Pets....jpg'\n",
      "b'images\\\\cat\\\\7 Foods Your Cat Can_t Eat.jpg'\n",
      "b'images\\\\cat\\\\A cat appears to have caught the....jpg'\n"
     ]
    }
   ],
   "source": [
    "for label in image_ds.take(3):\n",
    "    print(label.numpy())"
   ]
  },
  {
   "cell_type": "code",
   "execution_count": 20,
   "id": "cc38e47a",
   "metadata": {},
   "outputs": [
    {
     "name": "stdout",
     "output_type": "stream",
     "text": [
      "b'images\\\\cat\\\\What to do if your cat is marking....jpg'\n",
      "b'images\\\\dog\\\\25 Low-Maintenance Dog Breeds for....jpg'\n",
      "b'images\\\\dog\\\\The Black Dog Tavern Company _ Life off....jpg'\n"
     ]
    }
   ],
   "source": [
    "image_ds = image_ds.shuffle(200)\n",
    "for label in image_ds.take(3):\n",
    "    print(label.numpy())"
   ]
  },
  {
   "cell_type": "code",
   "execution_count": 21,
   "id": "370c4957",
   "metadata": {},
   "outputs": [],
   "source": [
    "class_names = [\"cat\",\"dog\"]"
   ]
  },
  {
   "cell_type": "code",
   "execution_count": 24,
   "id": "559ebfd3",
   "metadata": {},
   "outputs": [],
   "source": [
    "train_size = int(image_count*0.8)\n",
    "train_ds = image_ds.take(train_size)\n",
    "test_ds = image_ds.skip(train_size)"
   ]
  },
  {
   "cell_type": "code",
   "execution_count": 25,
   "id": "17f28773",
   "metadata": {},
   "outputs": [
    {
     "data": {
      "text/plain": [
       "(104, 26)"
      ]
     },
     "execution_count": 25,
     "metadata": {},
     "output_type": "execute_result"
    }
   ],
   "source": [
    "len(train_ds), len(test_ds)"
   ]
  },
  {
   "cell_type": "code",
   "execution_count": 26,
   "id": "76a841eb",
   "metadata": {},
   "outputs": [],
   "source": [
    "def get_label(file_path):\n",
    "    \n",
    "    parts = tf.strings.split(file_path, os.path.sep)\n",
    "    return parts[-2]\n",
    "    "
   ]
  },
  {
   "cell_type": "code",
   "execution_count": 28,
   "id": "26135cd5",
   "metadata": {},
   "outputs": [
    {
     "data": {
      "text/plain": [
       "<tf.Tensor: shape=(), dtype=string, numpy=b'cat'>"
      ]
     },
     "execution_count": 28,
     "metadata": {},
     "output_type": "execute_result"
    }
   ],
   "source": [
    "get_label('images\\\\cat\\\\What to do if your cat is marking....jpg')"
   ]
  },
  {
   "cell_type": "code",
   "execution_count": 30,
   "id": "63ae7711",
   "metadata": {},
   "outputs": [],
   "source": [
    "def image_processing(file_path):\n",
    "    \n",
    "    label = get_label(file_path)\n",
    "    \n",
    "    img = tf.io.read_file(file_path)\n",
    "    img = tf.image.decode_jpeg(img)\n",
    "    img = tf.image.resize(img, [128,128])\n",
    "    \n",
    "    return img, label"
   ]
  },
  {
   "cell_type": "code",
   "execution_count": 35,
   "id": "71149aec",
   "metadata": {},
   "outputs": [
    {
     "data": {
      "text/plain": [
       "(<tf.Tensor: shape=(128, 128, 3), dtype=float32, numpy=\n",
       " array([[[197.22656, 189.22656, 187.22656],\n",
       "         [187.22656, 177.22656, 175.22656],\n",
       "         [195.9336 , 186.9336 , 181.9336 ],\n",
       "         ...,\n",
       "         [181.58594, 166.58594, 162.58594],\n",
       "         [182.16016, 171.16016, 167.16016],\n",
       "         [177.72656, 166.72656, 164.72656]],\n",
       " \n",
       "        [[192.17969, 184.17969, 181.17969],\n",
       "         [192.14062, 182.14062, 180.14062],\n",
       "         [195.83984, 186.51953, 182.48047],\n",
       "         ...,\n",
       "         [181.23828, 166.23828, 162.5586 ],\n",
       "         [179.66016, 168.66016, 164.66016],\n",
       "         [175.85938, 163.89844, 162.21875]],\n",
       " \n",
       "        [[191.9336 , 184.80078, 179.19922],\n",
       "         [194.4336 , 186.16797, 183.30078],\n",
       "         [200.60156, 190.60156, 189.03516],\n",
       "         ...,\n",
       "         [177.23438, 162.23438, 159.23438],\n",
       "         [185.10156, 174.10156, 170.10156],\n",
       "         [170.9336 , 156.9336 , 154.19922]],\n",
       " \n",
       "        ...,\n",
       " \n",
       "        [[198.46875, 187.60156, 185.60156],\n",
       "         [192.69922, 182.5664 , 181.4336 ],\n",
       "         [203.0664 , 195.0664 , 193.     ],\n",
       "         ...,\n",
       "         [158.39844, 145.13281, 145.0664 ],\n",
       "         [160.60156, 148.33594, 148.33594],\n",
       "         [162.13281, 150.73438, 149.     ]],\n",
       " \n",
       "        [[196.67969, 186.67969, 184.67969],\n",
       "         [190.1211 , 179.1211 , 177.1211 ],\n",
       "         [201.1211 , 193.1211 , 190.1211 ],\n",
       "         ...,\n",
       "         [151.40234, 135.40234, 135.40234],\n",
       "         [153.80078, 139.80078, 139.80078],\n",
       "         [160.33984, 146.33984, 146.33984]],\n",
       " \n",
       "        [[194.4336 , 184.4336 , 182.4336 ],\n",
       "         [184.11328, 173.11328, 171.11328],\n",
       "         [192.38672, 182.38672, 180.38672],\n",
       "         ...,\n",
       "         [144.0664 , 128.0664 , 128.0664 ],\n",
       "         [149.9336 , 133.9336 , 134.9336 ],\n",
       "         [170.11328, 156.11328, 156.11328]]], dtype=float32)>,\n",
       " <tf.Tensor: shape=(), dtype=string, numpy=b'cat'>)"
      ]
     },
     "execution_count": 35,
     "metadata": {},
     "output_type": "execute_result"
    }
   ],
   "source": [
    "img, label = image_processing('images\\\\cat\\\\What to do if your cat is marking....jpg')\n",
    "img , label"
   ]
  },
  {
   "cell_type": "code",
   "execution_count": 37,
   "id": "845eb0ac",
   "metadata": {},
   "outputs": [],
   "source": [
    "train_ds = train_ds.map(image_processing)\n",
    "test_ds = test_ds.map(image_processing)"
   ]
  },
  {
   "cell_type": "code",
   "execution_count": 38,
   "id": "41619047",
   "metadata": {},
   "outputs": [
    {
     "name": "stdout",
     "output_type": "stream",
     "text": [
      "tf.Tensor(\n",
      "[[[ 80.54791    84.75104    25.954163 ]\n",
      "  [ 83.27655    74.63513     4.559387 ]\n",
      "  [ 82.961      71.91797     8.093811 ]\n",
      "  ...\n",
      "  [ 58.083313   46.083313   24.083313 ]\n",
      "  [ 55.78125    44.78125    25.398438 ]\n",
      "  [ 36.121643   30.138306   15.551331 ]]\n",
      "\n",
      " [[ 65.34766    67.71094     5.2460938]\n",
      "  [ 96.67969    88.529724    6.6516724]\n",
      "  [ 98.36725    85.066345    8.257874 ]\n",
      "  ...\n",
      "  [ 71.6991     52.222534   27.484253 ]\n",
      "  [ 55.882812   42.492188   27.664062 ]\n",
      "  [ 65.015625   62.5578     61.619568 ]]\n",
      "\n",
      " [[ 66.953186   66.359436    1.2435303]\n",
      "  [108.36322    99.29303     3.6210327]\n",
      "  [115.375     106.94922     9.533752 ]\n",
      "  ...\n",
      "  [ 91.44531    70.06641    26.760315 ]\n",
      "  [ 50.390625   37.98047    17.210938 ]\n",
      "  [111.9762    113.012695  113.03998  ]]\n",
      "\n",
      " ...\n",
      "\n",
      " [[179.79291   167.01166   104.42572  ]\n",
      "  [184.01929   164.58179   111.19116  ]\n",
      "  [130.38452   135.17609    66.44061  ]\n",
      "  ...\n",
      "  [166.57672   160.59235   109.706726 ]\n",
      "  [154.08612   144.50793    97.5979   ]\n",
      "  [161.60162   167.02094    81.5509   ]]\n",
      "\n",
      " [[157.69061   140.85236    91.227356 ]\n",
      "  [165.58899   153.9054    101.37567  ]\n",
      "  [128.70703   127.44916    64.23047  ]\n",
      "  ...\n",
      "  [195.76953   188.53906   135.82819  ]\n",
      "  [155.81097   145.56488    96.48047  ]\n",
      "  [164.9867    158.53748    83.215576 ]]\n",
      "\n",
      " [[136.56927   120.975525   86.46484  ]\n",
      "  [158.07812   145.07812   100.81952  ]\n",
      "  [150.27869   148.27869    89.471436 ]\n",
      "  ...\n",
      "  [194.97656   184.91144   150.21875  ]\n",
      "  [175.7492    162.3086    132.44373  ]\n",
      "  [145.51459   133.51459    83.305725 ]]], shape=(128, 128, 3), dtype=float32)\n",
      "tf.Tensor(b'dog', shape=(), dtype=string)\n",
      "tf.Tensor(\n",
      "[[[ 26.576904  45.71997   18.576904]\n",
      "  [ 31.003906  52.003906  20.800293]\n",
      "  [ 33.257324  56.798584  20.28955 ]\n",
      "  ...\n",
      "  [ 56.260498  50.00879   48.263916]\n",
      "  [ 57.816162  62.723145  56.355225]\n",
      "  [ 42.96997   65.65747   48.821533]]\n",
      "\n",
      " [[ 29.35962   52.988525  22.101807]\n",
      "  [ 35.26172   59.26172   25.628906]\n",
      "  [ 39.51172   65.08203   26.454346]\n",
      "  ...\n",
      "  [ 52.394287  45.159668  42.472168]\n",
      "  [ 54.296875  59.477295  46.851562]\n",
      "  [ 46.823486  67.37109   42.785156]]\n",
      "\n",
      " [[ 30.839844  56.839844  20.499512]\n",
      "  [ 38.670654  64.93872   28.      ]\n",
      "  [ 43.858643  72.08203   30.60791 ]\n",
      "  ...\n",
      "  [ 56.796875  45.8938    45.61792 ]\n",
      "  [ 51.455566  57.85791   38.972412]\n",
      "  [ 46.410156  65.267334  33.891113]]\n",
      "\n",
      " ...\n",
      "\n",
      " [[ 40.865967  62.865967  15.865967]\n",
      "  [ 42.98169   61.98169   15.981689]\n",
      "  [ 52.454834  71.454834  25.454834]\n",
      "  ...\n",
      "  [ 70.70264   96.98779   31.41748 ]\n",
      "  [ 67.24927   92.24927   24.624268]\n",
      "  [ 67.1311    93.1311    22.131104]]\n",
      "\n",
      " [[ 41.677246  63.677246  16.677246]\n",
      "  [ 42.39624   61.39624   15.39624 ]\n",
      "  [ 50.532227  69.53223   23.532227]\n",
      "  ...\n",
      "  [ 74.87695  101.87695   34.3667  ]\n",
      "  [ 67.893555  93.706055  23.268555]\n",
      "  [ 70.53955   96.53955   23.19165 ]]\n",
      "\n",
      " [[ 40.321533  62.321533  15.321533]\n",
      "  [ 41.29297   60.29297   14.292969]\n",
      "  [ 49.059082  68.05908   22.059082]\n",
      "  ...\n",
      "  [ 71.05029   98.05029   29.675293]\n",
      "  [ 65.6521    91.6521    19.0271  ]\n",
      "  [ 66.56787   93.50537   16.692871]]], shape=(128, 128, 3), dtype=float32)\n",
      "tf.Tensor(b'dog', shape=(), dtype=string)\n",
      "tf.Tensor(\n",
      "[[[2.2401953e+02 2.2301953e+02 5.5019531e+01]\n",
      "  [2.3698047e+02 2.3598047e+02 5.8019531e+01]\n",
      "  [2.1913672e+02 2.1613672e+02 4.3097656e+01]\n",
      "  ...\n",
      "  [5.4000000e+01 3.9000000e+01 1.8000000e+01]\n",
      "  [5.1000000e+01 4.0000000e+01 2.0000000e+01]\n",
      "  [4.6980469e+01 3.5980469e+01 1.7980469e+01]]\n",
      "\n",
      " [[2.4100000e+02 2.3900000e+02 6.8058594e+01]\n",
      "  [2.3400000e+02 2.3205859e+02 4.8882812e+01]\n",
      "  [1.9623438e+02 1.8629297e+02 3.5882812e+01]\n",
      "  ...\n",
      "  [5.1000000e+01 3.8000000e+01 1.9000000e+01]\n",
      "  [5.0058594e+01 3.9058594e+01 2.1058594e+01]\n",
      "  [4.4000000e+01 3.5000000e+01 1.8000000e+01]]\n",
      "\n",
      " [[2.3709766e+02 2.3509766e+02 5.4292969e+01]\n",
      "  [2.0036719e+02 1.9146484e+02 3.7683594e+01]\n",
      "  [1.6929297e+02 1.5339062e+02 3.2000000e+01]\n",
      "  ...\n",
      "  [4.7195312e+01 3.6195312e+01 1.8195312e+01]\n",
      "  [4.2097656e+01 3.4902344e+01 1.7000000e+01]\n",
      "  [3.9097656e+01 3.3000000e+01 1.7000000e+01]]\n",
      "\n",
      " ...\n",
      "\n",
      " [[4.9195312e+01 6.0195312e+01 1.9531250e-01]\n",
      "  [4.9000000e+01 6.0000000e+01 2.1953125e+00]\n",
      "  [6.4609375e+01 7.7609375e+01 8.6093750e+00]\n",
      "  ...\n",
      "  [4.3292969e+01 5.3390625e+01 2.6097656e+01]\n",
      "  [4.9292969e+01 5.8292969e+01 2.9097656e+01]\n",
      "  [2.9000000e+01 3.3000000e+01 1.6000000e+01]]\n",
      "\n",
      " [[4.5000000e+01 5.6000000e+01 0.0000000e+00]\n",
      "  [3.1468750e+01 4.0468750e+01 2.9296875e-01]\n",
      "  [5.6648438e+01 6.9648438e+01 9.4140625e-01]\n",
      "  ...\n",
      "  [4.1707031e+01 5.2707031e+01 1.8707031e+01]\n",
      "  [4.2175781e+01 5.2175781e+01 1.8175781e+01]\n",
      "  [2.9000000e+01 3.4000000e+01 1.1000000e+01]]\n",
      "\n",
      " [[5.1000000e+01 6.2000000e+01 4.0000000e+00]\n",
      "  [4.0019531e+01 4.9019531e+01 6.0195312e+00]\n",
      "  [5.6000000e+01 6.8000000e+01 4.0390625e+00]\n",
      "  ...\n",
      "  [4.3019531e+01 5.5019531e+01 1.9019531e+01]\n",
      "  [4.4960938e+01 5.4941406e+01 2.1000000e+01]\n",
      "  [2.9960938e+01 3.4960938e+01 1.3000000e+01]]], shape=(128, 128, 3), dtype=float32)\n",
      "tf.Tensor(b'dog', shape=(), dtype=string)\n"
     ]
    }
   ],
   "source": [
    "for img, label in train_ds.take(3):\n",
    "    print(img)\n",
    "    print(label)"
   ]
  },
  {
   "cell_type": "code",
   "execution_count": 39,
   "id": "897de10c",
   "metadata": {},
   "outputs": [],
   "source": [
    "def scale(img,label):\n",
    "    return img/255, label"
   ]
  },
  {
   "cell_type": "code",
   "execution_count": 40,
   "id": "7e25b65c",
   "metadata": {},
   "outputs": [],
   "source": [
    "train_ds = train_ds.map(scale)"
   ]
  },
  {
   "cell_type": "code",
   "execution_count": 42,
   "id": "a04b8826",
   "metadata": {},
   "outputs": [
    {
     "name": "stdout",
     "output_type": "stream",
     "text": [
      "tf.Tensor(b'cat', shape=(), dtype=string)\n",
      "tf.Tensor(\n",
      "[[[0. 0. 0.]\n",
      "  [0. 0. 0.]\n",
      "  [0. 0. 0.]\n",
      "  ...\n",
      "  [0. 0. 0.]\n",
      "  [0. 0. 0.]\n",
      "  [0. 0. 0.]]\n",
      "\n",
      " [[0. 0. 0.]\n",
      "  [0. 0. 0.]\n",
      "  [0. 0. 0.]\n",
      "  ...\n",
      "  [0. 0. 0.]\n",
      "  [0. 0. 0.]\n",
      "  [0. 0. 0.]]\n",
      "\n",
      " [[0. 0. 0.]\n",
      "  [0. 0. 0.]\n",
      "  [0. 0. 0.]\n",
      "  ...\n",
      "  [0. 0. 0.]\n",
      "  [0. 0. 0.]\n",
      "  [0. 0. 0.]]\n",
      "\n",
      " ...\n",
      "\n",
      " [[0. 0. 0.]\n",
      "  [0. 0. 0.]\n",
      "  [0. 0. 0.]\n",
      "  ...\n",
      "  [0. 0. 0.]\n",
      "  [0. 0. 0.]\n",
      "  [0. 0. 0.]]\n",
      "\n",
      " [[0. 0. 0.]\n",
      "  [0. 0. 0.]\n",
      "  [0. 0. 0.]\n",
      "  ...\n",
      "  [0. 0. 0.]\n",
      "  [0. 0. 0.]\n",
      "  [0. 0. 0.]]\n",
      "\n",
      " [[0. 0. 0.]\n",
      "  [0. 0. 0.]\n",
      "  [0. 0. 0.]\n",
      "  ...\n",
      "  [0. 0. 0.]\n",
      "  [0. 0. 0.]\n",
      "  [0. 0. 0.]]], shape=(128, 128, 3), dtype=float32)\n",
      "tf.Tensor(b'dog', shape=(), dtype=string)\n",
      "tf.Tensor(\n",
      "[[[0.03999694 0.07136948 0.01254596 1.        ]\n",
      "  [0.05098039 0.07450981 0.01960784 1.        ]\n",
      "  [0.05518835 0.07259498 0.01589008 1.        ]\n",
      "  ...\n",
      "  [0.19096535 0.24225213 0.11636364 1.        ]\n",
      "  [0.16562141 0.2051187  0.10822838 1.        ]\n",
      "  [0.15234135 0.17487973 0.08643236 1.        ]]\n",
      "\n",
      " [[0.0508308  0.07985959 0.01972453 1.        ]\n",
      "  [0.05490196 0.07843138 0.02352941 1.        ]\n",
      "  [0.05243961 0.0731784  0.02472427 1.        ]\n",
      "  ...\n",
      "  [0.20321955 0.25370842 0.12208946 1.        ]\n",
      "  [0.16068558 0.19990127 0.10186205 1.        ]\n",
      "  [0.14966886 0.1810414  0.10088262 1.        ]]\n",
      "\n",
      " [[0.05528492 0.08510431 0.02352941 1.        ]\n",
      "  [0.0627451  0.08683998 0.02881566 1.        ]\n",
      "  [0.05002262 0.07549678 0.02450179 1.        ]\n",
      "  ...\n",
      "  [0.21191646 0.25411126 0.12266283 1.        ]\n",
      "  [0.15506914 0.19171    0.09681109 1.        ]\n",
      "  [0.18497913 0.2278726  0.13002786 1.        ]]\n",
      "\n",
      " ...\n",
      "\n",
      " [[0.4699354  0.59763426 0.28757265 1.        ]\n",
      "  [0.34875834 0.46444905 0.09606802 1.        ]\n",
      "  [0.36820343 0.47186688 0.12734579 1.        ]\n",
      "  ...\n",
      "  [0.38365945 0.45231754 0.08455452 1.        ]\n",
      "  [0.42910013 0.49931413 0.17313245 1.        ]\n",
      "  [0.5838983  0.60272217 0.31653884 1.        ]]\n",
      "\n",
      " [[0.3851912  0.48418832 0.20311268 1.        ]\n",
      "  [0.37158754 0.5120639  0.17398347 1.        ]\n",
      "  [0.46984074 0.5573341  0.2586848  1.        ]\n",
      "  ...\n",
      "  [0.3393763  0.4086432  0.10659922 1.        ]\n",
      "  [0.43719232 0.4758923  0.14176193 1.        ]\n",
      "  [0.48671156 0.5632728  0.2478068  1.        ]]\n",
      "\n",
      " [[0.35643178 0.44693208 0.11326054 1.        ]\n",
      "  [0.50936437 0.57593286 0.19587187 1.        ]\n",
      "  [0.40148148 0.51257014 0.25631487 1.        ]\n",
      "  ...\n",
      "  [0.5906377  0.6046189  0.29545707 1.        ]\n",
      "  [0.48582703 0.5452998  0.24716055 1.        ]\n",
      "  [0.54057676 0.59782726 0.22621615 1.        ]]], shape=(128, 128, 4), dtype=float32)\n",
      "tf.Tensor(b'dog', shape=(), dtype=string)\n",
      "tf.Tensor(\n",
      "[[[0.09411765 0.07450981 0.05882353]\n",
      "  [0.09411765 0.07450981 0.05882353]\n",
      "  [0.08573836 0.07397365 0.05436581]\n",
      "  ...\n",
      "  [0.5643995  0.5604779  0.5840074 ]\n",
      "  [0.60364103 0.5924795  0.6196289 ]\n",
      "  [0.41058707 0.39024395 0.38068512]]\n",
      "\n",
      " [[0.0865761  0.06696825 0.05128198]\n",
      "  [0.0957261  0.07611826 0.06043199]\n",
      "  [0.07087737 0.05911267 0.03950483]\n",
      "  ...\n",
      "  [0.56759727 0.5636757  0.5872051 ]\n",
      "  [0.58837795 0.60627013 0.61803484]\n",
      "  [0.48494944 0.46142003 0.47073376]]\n",
      "\n",
      " [[0.0870098  0.06740196 0.05171569]\n",
      "  [0.08476658 0.06515874 0.04947247]\n",
      "  [0.07843138 0.06666667 0.04705882]\n",
      "  ...\n",
      "  [0.57694453 0.57302296 0.5965524 ]\n",
      "  [0.5773916  0.5813132  0.59699947]\n",
      "  [0.59821635 0.5903732  0.60796475]]\n",
      "\n",
      " ...\n",
      "\n",
      " [[0.5418744  0.56148225 0.57324696]\n",
      "  [0.56641966 0.5847867  0.5965514 ]\n",
      "  [0.64012426 0.66345453 0.6779    ]\n",
      "  ...\n",
      "  [0.50510496 0.51935124 0.5377183 ]\n",
      "  [0.6000737  0.59153265 0.6346699 ]\n",
      "  [0.39448625 0.40088943 0.4229789 ]]\n",
      "\n",
      " [[0.69917756 0.7305501  0.73839325]\n",
      "  [0.5316732  0.53559476 0.55128103]\n",
      "  [0.60780483 0.6391774  0.6509421 ]\n",
      "  ...\n",
      "  [0.59161115 0.60337585 0.6229837 ]\n",
      "  [0.48581782 0.4897212  0.52763575]\n",
      "  [0.61540383 0.62716854 0.6467764 ]]\n",
      "\n",
      " [[0.6113779  0.62910634 0.6606867 ]\n",
      "  [0.5966222  0.5960861  0.6307981 ]\n",
      "  [0.5465629  0.5589097  0.5780149 ]\n",
      "  ...\n",
      "  [0.5370347  0.55557024 0.57179266]\n",
      "  [0.6191512  0.6356541  0.65301013]\n",
      "  [0.54206496 0.54598653 0.56505823]]], shape=(128, 128, 3), dtype=float32)\n"
     ]
    }
   ],
   "source": [
    "for img, label in train_ds.take(3):\n",
    "    print(label)\n",
    "    print(img)"
   ]
  },
  {
   "cell_type": "code",
   "execution_count": null,
   "id": "5c46075c",
   "metadata": {},
   "outputs": [],
   "source": []
  }
 ],
 "metadata": {
  "kernelspec": {
   "display_name": "Python 3 (ipykernel)",
   "language": "python",
   "name": "python3"
  },
  "language_info": {
   "codemirror_mode": {
    "name": "ipython",
    "version": 3
   },
   "file_extension": ".py",
   "mimetype": "text/x-python",
   "name": "python",
   "nbconvert_exporter": "python",
   "pygments_lexer": "ipython3",
   "version": "3.11.2"
  }
 },
 "nbformat": 4,
 "nbformat_minor": 5
}
